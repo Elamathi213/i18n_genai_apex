{
  "nbformat": 4,
  "nbformat_minor": 0,
  "metadata": {
    "colab": {
      "provenance": []
    },
    "kernelspec": {
      "name": "python3",
      "display_name": "Python 3"
    },
    "language_info": {
      "name": "python"
    }
  },
  "cells": [
    {
      "cell_type": "code",
      "execution_count": null,
      "metadata": {
        "id": "a3nhcrvx8T2z"
      },
      "outputs": [],
      "source": [
        "from langchain.prompts import PromptTemplate\n"
      ]
    },
    {
      "cell_type": "code",
      "source": [
        "%pip install --upgrade --quiet langchain-google-genai"
      ],
      "metadata": {
        "colab": {
          "base_uri": "https://localhost:8080/"
        },
        "id": "idVBcDclJqbK",
        "outputId": "178ee190-1087-409a-ba1c-d5ca7066ae30"
      },
      "execution_count": null,
      "outputs": [
        {
          "output_type": "stream",
          "name": "stdout",
          "text": [
            "\u001b[?25l   \u001b[90m━━━━━━━━━━━━━━━━━━━━━━━━━━━━━━━━━━━━━━━━\u001b[0m \u001b[32m0.0/41.3 kB\u001b[0m \u001b[31m?\u001b[0m eta \u001b[36m-:--:--\u001b[0m\r\u001b[2K   \u001b[90m━━━━━━━━━━━━━━━━━━━━━━━━━━━━━━━━━━━━━━━━\u001b[0m \u001b[32m41.3/41.3 kB\u001b[0m \u001b[31m2.4 MB/s\u001b[0m eta \u001b[36m0:00:00\u001b[0m\n",
            "\u001b[?25h"
          ]
        }
      ]
    },
    {
      "cell_type": "code",
      "source": [
        "from langchain_google_genai import GoogleGenerativeAI"
      ],
      "metadata": {
        "id": "bWcFAHzYJ5VZ"
      },
      "execution_count": null,
      "outputs": []
    },
    {
      "cell_type": "code",
      "source": [
        "from google.colab import userdata\n",
        "key=userdata.get('GOOGLE_API_KEY')"
      ],
      "metadata": {
        "id": "MW7PnaNZLS-K"
      },
      "execution_count": null,
      "outputs": []
    },
    {
      "cell_type": "code",
      "source": [
        "model=GoogleGenerativeAI(model=\"gemini-pro\",google_api_key=key)"
      ],
      "metadata": {
        "id": "HxxSgTCzLm_S"
      },
      "execution_count": null,
      "outputs": []
    },
    {
      "cell_type": "code",
      "source": [
        "demo_template=\"\"\"you are expert in{programing}.{query}\"\"\""
      ],
      "metadata": {
        "id": "7PmQKlDyNMWx"
      },
      "execution_count": null,
      "outputs": []
    },
    {
      "cell_type": "code",
      "source": [
        "prompt=PromptTemplate(input_variables=[\"programing\",\"query\"],template=demo_template)"
      ],
      "metadata": {
        "id": "25p-xNh_NmRJ"
      },
      "execution_count": null,
      "outputs": []
    },
    {
      "cell_type": "code",
      "source": [
        "prompt_text=prompt.format(programing=\"python\",query=\"write a program for triangle pattern numbers\")"
      ],
      "metadata": {
        "id": "NhFRpLW2NrWp"
      },
      "execution_count": null,
      "outputs": []
    },
    {
      "cell_type": "code",
      "source": [
        "res=model.invoke(prompt_text)"
      ],
      "metadata": {
        "id": "l_mX37V8MADL"
      },
      "execution_count": null,
      "outputs": []
    },
    {
      "cell_type": "code",
      "source": [
        "print(res)"
      ],
      "metadata": {
        "colab": {
          "base_uri": "https://localhost:8080/"
        },
        "id": "Z3njJV_JMXkx",
        "outputId": "eb53b567-e00a-4b57-9f05-45020bdd3cea"
      },
      "execution_count": null,
      "outputs": [
        {
          "output_type": "stream",
          "name": "stdout",
          "text": [
            "```python\n",
            "# This program prints a triangle pattern of numbers.\n",
            "\n",
            "# Get the number of rows from the user.\n",
            "num_rows = int(input(\"Enter the number of rows: \"))\n",
            "\n",
            "# Create a list of lists to store the triangle pattern.\n",
            "triangle = []\n",
            "\n",
            "# Iterate over the rows.\n",
            "for i in range(num_rows):\n",
            "\n",
            "    # Create a list to store the numbers in the current row.\n",
            "    row = []\n",
            "\n",
            "    # Iterate over the columns.\n",
            "    for j in range(i + 1):\n",
            "\n",
            "        # Add the number to the current row.\n",
            "        row.append(j + 1)\n",
            "\n",
            "    # Add the current row to the triangle.\n",
            "    triangle.append(row)\n",
            "\n",
            "# Print the triangle pattern.\n",
            "for row in triangle:\n",
            "    print(*row)\n",
            "```\n"
          ]
        }
      ]
    },
    {
      "cell_type": "code",
      "source": [
        "from langchain.chains import LLMChain"
      ],
      "metadata": {
        "id": "MH0Vk9mpbinr"
      },
      "execution_count": null,
      "outputs": []
    },
    {
      "cell_type": "code",
      "source": [
        "llm_chain=LLMChain(prompt=prompt,llm=model)"
      ],
      "metadata": {
        "colab": {
          "base_uri": "https://localhost:8080/"
        },
        "id": "JjI6_o_Xbvxj",
        "outputId": "ce81020b-24d1-49f0-c855-e74f5e6b42cf"
      },
      "execution_count": null,
      "outputs": [
        {
          "output_type": "stream",
          "name": "stderr",
          "text": [
            "<ipython-input-32-8ab1d06046c7>:1: LangChainDeprecationWarning: The class `LLMChain` was deprecated in LangChain 0.1.17 and will be removed in 1.0. Use :meth:`~RunnableSequence, e.g., `prompt | llm`` instead.\n",
            "  llm_chain=LLMChain(prompt=prompt,llm=model)\n"
          ]
        }
      ]
    },
    {
      "cell_type": "code",
      "source": [
        "res=llm_chain.run({\"programing\":\"python\",\"query\":\"write a program for triangle pattern \"})"
      ],
      "metadata": {
        "id": "stLvhe5-bzVs"
      },
      "execution_count": null,
      "outputs": []
    },
    {
      "cell_type": "code",
      "source": [
        "print(res)"
      ],
      "metadata": {
        "colab": {
          "base_uri": "https://localhost:8080/"
        },
        "id": "CGzGZ2q_c1Cz",
        "outputId": "e28e7f35-366f-482b-c3c3-71c3a76ec5a2"
      },
      "execution_count": null,
      "outputs": [
        {
          "output_type": "stream",
          "name": "stdout",
          "text": [
            "```python\n",
            "# This program prints a triangle pattern using Python\n",
            "\n",
            "# Function to print the triangle pattern\n",
            "def triangle(n):\n",
            "    # Iterate over each row\n",
            "    for i in range(n):\n",
            "        # Print spaces for the current row\n",
            "        for j in range(n-i-1):\n",
            "            print(' ', end='')\n",
            "\n",
            "        # Print stars for the current row\n",
            "        for j in range(2*i+1):\n",
            "            print('*', end='')\n",
            "\n",
            "        # Move to the next line\n",
            "        print()\n",
            "\n",
            "# Get the number of rows from the user\n",
            "n = int(input(\"Enter the number of rows: \"))\n",
            "\n",
            "# Print the triangle pattern\n",
            "triangle(n)\n",
            "```\n"
          ]
        }
      ]
    }
  ]
}